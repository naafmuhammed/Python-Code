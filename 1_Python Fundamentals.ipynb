{
 "cells": [
  {
   "cell_type": "code",
   "execution_count": 3,
   "id": "0f44c537-694e-4242-aef6-b86b789f1207",
   "metadata": {},
   "outputs": [
    {
     "name": "stdout",
     "output_type": "stream",
     "text": [
      "Muhammed\n",
      "ST1001\n",
      "naafmuhammed@gmail.com\n"
     ]
    }
   ],
   "source": [
    "# Print personal information\n",
    "print(\"Muhammed\")\n",
    "print(\"ST1001\")\n",
    "print(\"naafmuhammed@gmail.com\")\n"
   ]
  },
  {
   "cell_type": "code",
   "execution_count": 4,
   "id": "4b9067f8-b2af-4990-a3d2-ef17f3a84cef",
   "metadata": {},
   "outputs": [
    {
     "name": "stdout",
     "output_type": "stream",
     "text": [
      "Muhammed\n",
      "ST1001\n",
      "naafmuhammed@gmail.com\n"
     ]
    }
   ],
   "source": [
    "print(\"Muhammed\\nST1001\\nnaafmuhammed@gmail.com\")\n"
   ]
  },
  {
   "cell_type": "code",
   "execution_count": 5,
   "id": "8c1eafb4-43ab-493c-a824-16a3dc40201b",
   "metadata": {},
   "outputs": [],
   "source": [
    "a = 14\n",
    "b = 7"
   ]
  },
  {
   "cell_type": "code",
   "execution_count": 6,
   "id": "caf11863-d05f-4ce5-a57d-18b6ce709c61",
   "metadata": {},
   "outputs": [
    {
     "name": "stdout",
     "output_type": "stream",
     "text": [
      "14 + 7 = 21\n",
      "14 * 7 = 98\n",
      "14 - 7 = 7\n",
      "14 / 7 = 2.0\n"
     ]
    }
   ],
   "source": [
    "print(f\"{a} + {b} = {a + b}\")\n",
    "print(f\"{a} * {b} = {a * b}\")\n",
    "print(f\"{a} - {b} = {a - b}\")\n",
    "print(f\"{a} / {b} = {a / b}\")"
   ]
  },
  {
   "cell_type": "code",
   "execution_count": 7,
   "id": "4da4931a-6e5f-43e4-a118-9c4d351f5def",
   "metadata": {},
   "outputs": [
    {
     "name": "stdout",
     "output_type": "stream",
     "text": [
      "1\n",
      "2\n",
      "3\n",
      "4\n",
      "5\n"
     ]
    }
   ],
   "source": [
    "\n",
    "print(\"1\\n2\\n3\\n4\\n5\")\n"
   ]
  },
  {
   "cell_type": "code",
   "execution_count": 8,
   "id": "fab30cea-1b84-4dae-8480-769c353fb16f",
   "metadata": {},
   "outputs": [
    {
     "name": "stdout",
     "output_type": "stream",
     "text": [
      "\"SDK\" stands for \"Software Development Kit\", whereas\n",
      "\"IDE\" stands for \"Integrated Development Environment\".\n"
     ]
    }
   ],
   "source": [
    "print(\"\\\"SDK\\\" stands for \\\"Software Development Kit\\\", whereas\\n\\\"IDE\\\" stands for \\\"Integrated Development Environment\\\".\")\n"
   ]
  },
  {
   "cell_type": "code",
   "execution_count": 9,
   "id": "a5f41aea-9079-47d3-a63c-a42131527d38",
   "metadata": {},
   "outputs": [
    {
     "name": "stdout",
     "output_type": "stream",
     "text": [
      "python is an \"awesome\" language.\n",
      "python\n",
      "\t2023\n",
      "I'm from Entri\n",
      "5\n",
      "e\n",
      "Entri\n",
      "2023\n",
      "Entr2023\n",
      "Entri*20"
     ]
    }
   ],
   "source": [
    "print(\"python is an \\\"awesome\\\" language.\")\n",
    "print(\"python\\n\\t2023\")\n",
    "print('I\\'m from Entri.\\b')\n",
    "print(\"\\65\")\n",
    "print(\"\\x65\")\n",
    "print(\"Entri\", \"2023\", sep=\"\\n\")\n",
    "print(\"Entri\", \"2023\", sep=\"\\b\")\n",
    "print(\"Entri\", \"2023\", sep=\"*\", end=\"\\b\\b\\b\\b\")\n"
   ]
  },
  {
   "cell_type": "code",
   "execution_count": 10,
   "id": "05e7eed2-df52-4150-8586-4fce94558d73",
   "metadata": {},
   "outputs": [],
   "source": [
    "num = 23\n",
    "textnum = \"57\"\n",
    "decimal = 98.3\n"
   ]
  },
  {
   "cell_type": "code",
   "execution_count": 11,
   "id": "8d87c06d-3da6-4024-8e6e-fe3720b26c4a",
   "metadata": {},
   "outputs": [
    {
     "name": "stdout",
     "output_type": "stream",
     "text": [
      "Type of num: <class 'int'>\n",
      "Type of textnum: <class 'str'>\n",
      "Type of decimal: <class 'float'>\n"
     ]
    }
   ],
   "source": [
    "print(\"Type of num:\", type(num))\n",
    "print(\"Type of textnum:\", type(textnum))\n",
    "print(\"Type of decimal:\", type(decimal))\n"
   ]
  },
  {
   "cell_type": "code",
   "execution_count": 12,
   "id": "20287461-d278-428e-a19e-72416dac30c4",
   "metadata": {},
   "outputs": [],
   "source": [
    "converted_textnum = int(textnum)"
   ]
  },
  {
   "cell_type": "code",
   "execution_count": 13,
   "id": "e2b9dccc-d713-4604-aa93-9591f2a4b597",
   "metadata": {},
   "outputs": [],
   "source": [
    "total = num + converted_textnum + decimal"
   ]
  },
  {
   "cell_type": "code",
   "execution_count": 14,
   "id": "38cef201-f27c-4f06-bf99-8f5f101fcc42",
   "metadata": {},
   "outputs": [
    {
     "name": "stdout",
     "output_type": "stream",
     "text": [
      "Sum of variables: 178.3\n",
      "Type of the sum: <class 'float'>\n"
     ]
    }
   ],
   "source": [
    "print(\"Sum of variables:\", total)\n",
    "print(\"Type of the sum:\", type(total))"
   ]
  },
  {
   "cell_type": "code",
   "execution_count": 15,
   "id": "b57168ab-2059-43ac-944b-865b2d6ea654",
   "metadata": {},
   "outputs": [],
   "source": [
    "days_in_year = 365\n",
    "hours_in_day = 24\n",
    "minutes_in_hour = 60"
   ]
  },
  {
   "cell_type": "code",
   "execution_count": 16,
   "id": "07e68c65-fff9-4473-9a66-525f3d40d61f",
   "metadata": {},
   "outputs": [],
   "source": [
    "total_minutes = days_in_year * hours_in_day * minutes_in_hour"
   ]
  },
  {
   "cell_type": "code",
   "execution_count": 17,
   "id": "25d4b0ec-9b35-4aa8-8517-0fee14528109",
   "metadata": {},
   "outputs": [
    {
     "name": "stdout",
     "output_type": "stream",
     "text": [
      "Number of days in a year: 365\n",
      "Number of hours in a day: 24\n",
      "Number of minutes in an hour: 60\n",
      "Total number of minutes in a year: 525600\n"
     ]
    }
   ],
   "source": [
    "print(\"Number of days in a year:\", days_in_year)\n",
    "print(\"Number of hours in a day:\", hours_in_day)\n",
    "print(\"Number of minutes in an hour:\", minutes_in_hour)\n",
    "print(\"Total number of minutes in a year:\", total_minutes)"
   ]
  },
  {
   "cell_type": "code",
   "execution_count": 18,
   "id": "c42e1dbf-8628-4724-b0cd-f37b97a543f1",
   "metadata": {},
   "outputs": [
    {
     "name": "stdin",
     "output_type": "stream",
     "text": [
      "Muhammedkm:  muhammed\n"
     ]
    }
   ],
   "source": [
    "name = input(\"Muhammedkm: \")"
   ]
  },
  {
   "cell_type": "code",
   "execution_count": 19,
   "id": "a4fe6ff4-af6d-45d5-800e-4d33c579f0bf",
   "metadata": {},
   "outputs": [
    {
     "name": "stdout",
     "output_type": "stream",
     "text": [
      "Hi muhammed, welcome to Python programming :)\n"
     ]
    }
   ],
   "source": [
    "print(f\"Hi {name}, welcome to Python programming :)\")"
   ]
  },
  {
   "cell_type": "code",
   "execution_count": 20,
   "id": "314e6c0d-28c4-47d5-8de0-e72f6de05453",
   "metadata": {},
   "outputs": [],
   "source": [
    "conversion_rate = 1.25"
   ]
  },
  {
   "cell_type": "code",
   "execution_count": 21,
   "id": "1be9337a-bb93-4463-8de0-62cda32fa7ab",
   "metadata": {},
   "outputs": [
    {
     "name": "stdin",
     "output_type": "stream",
     "text": [
      "10:  10\n"
     ]
    }
   ],
   "source": [
    "pounds = float(input(\"10: \"))"
   ]
  },
  {
   "cell_type": "code",
   "execution_count": 22,
   "id": "96d6e1bc-0d80-479d-ab00-dc637098f0a4",
   "metadata": {},
   "outputs": [],
   "source": [
    "dollars = pounds * conversion_rate"
   ]
  },
  {
   "cell_type": "code",
   "execution_count": null,
   "id": "57f7cf44-f9bc-44ba-8a8c-43f5a95ee2dc",
   "metadata": {},
   "outputs": [],
   "source": []
  }
 ],
 "metadata": {
  "kernelspec": {
   "display_name": "Python [conda env:base] *",
   "language": "python",
   "name": "conda-base-py"
  },
  "language_info": {
   "codemirror_mode": {
    "name": "ipython",
    "version": 3
   },
   "file_extension": ".py",
   "mimetype": "text/x-python",
   "name": "python",
   "nbconvert_exporter": "python",
   "pygments_lexer": "ipython3",
   "version": "3.12.7"
  }
 },
 "nbformat": 4,
 "nbformat_minor": 5
}
