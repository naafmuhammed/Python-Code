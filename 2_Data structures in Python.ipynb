{
 "cells": [
  {
   "cell_type": "code",
   "execution_count": 3,
   "id": "f17c708c-9925-4bbe-ac21-d828722a1390",
   "metadata": {},
   "outputs": [],
   "source": [
    "import random\n",
    "random_numbers = [random.randint(1, 100) for _ in range(5)]"
   ]
  },
  {
   "cell_type": "code",
   "execution_count": 4,
   "id": "151b42ea-d4a2-4ba4-b5ac-82386d077b20",
   "metadata": {},
   "outputs": [
    {
     "name": "stdout",
     "output_type": "stream",
     "text": [
      "[1, 17, 20, 89, 40]\n"
     ]
    }
   ],
   "source": [
    "print(random_numbers)"
   ]
  },
  {
   "cell_type": "code",
   "execution_count": 7,
   "id": "553d9297-5a2a-44e8-83be-f18f99e1514a",
   "metadata": {},
   "outputs": [
    {
     "name": "stdout",
     "output_type": "stream",
     "text": [
      "Original list: [77, 86, 51, 74, 95]\n"
     ]
    }
   ],
   "source": [
    "import random\n",
    "random_numbers = [random.randint(1, 100) for _ in range(5)]\n",
    "print(\"Original list:\", random_numbers)"
   ]
  },
  {
   "cell_type": "code",
   "execution_count": 8,
   "id": "87e0626a-2ef8-4f54-9f03-945b5c45c235",
   "metadata": {},
   "outputs": [],
   "source": [
    "new_values = [random.randint(1, 100) for _ in range(3)]\n",
    "random_numbers.extend(new_values)"
   ]
  },
  {
   "cell_type": "code",
   "execution_count": 9,
   "id": "e6a41e8c-4790-4a75-8d8f-ae4fdc8a1d3c",
   "metadata": {},
   "outputs": [
    {
     "name": "stdout",
     "output_type": "stream",
     "text": [
      "Updated list: [77, 86, 51, 74, 95, 16, 88, 73]\n"
     ]
    }
   ],
   "source": [
    "print(\"Updated list:\", random_numbers)"
   ]
  },
  {
   "cell_type": "code",
   "execution_count": 10,
   "id": "29e2f104-e380-49f5-8962-6e5307c18ff0",
   "metadata": {},
   "outputs": [],
   "source": [
    "import random\n",
    "random_numbers = [random.randint(1, 100) for _ in range(5)]\n",
    "\n"
   ]
  },
  {
   "cell_type": "code",
   "execution_count": 11,
   "id": "90abb848-bb5f-4d18-8a3c-90109979dde5",
   "metadata": {},
   "outputs": [],
   "source": [
    "new_values = [random.randint(1, 100) for _ in range(3)]\n",
    "random_numbers.extend(new_values)\n"
   ]
  },
  {
   "cell_type": "code",
   "execution_count": 12,
   "id": "9428335c-0959-4a81-abd2-326f2d8a5320",
   "metadata": {},
   "outputs": [
    {
     "name": "stdout",
     "output_type": "stream",
     "text": [
      "Elements in the updated list:\n",
      "31\n",
      "79\n",
      "12\n",
      "60\n",
      "87\n",
      "15\n",
      "93\n",
      "17\n"
     ]
    }
   ],
   "source": [
    "print(\"Elements in the updated list:\")\n",
    "for number in random_numbers:\n",
    "    print(number)"
   ]
  },
  {
   "cell_type": "code",
   "execution_count": 13,
   "id": "55638947-3bbd-435f-b649-a895bc1b0b8e",
   "metadata": {},
   "outputs": [],
   "source": [
    "person = {\n",
    "    'name': 'John',\n",
    "    'age': 25,\n",
    "    'address': 'New York'\n",
    "}"
   ]
  },
  {
   "cell_type": "code",
   "execution_count": 14,
   "id": "b2365244-504a-4f81-8608-b22afd47313d",
   "metadata": {},
   "outputs": [
    {
     "name": "stdout",
     "output_type": "stream",
     "text": [
      "{'name': 'John', 'age': 25, 'address': 'New York'}\n"
     ]
    }
   ],
   "source": [
    "print(person)"
   ]
  },
  {
   "cell_type": "code",
   "execution_count": 15,
   "id": "6ea98ccd-548d-47ba-8e88-c8871cecca0d",
   "metadata": {},
   "outputs": [],
   "source": [
    "person['phone'] = '1234567890'"
   ]
  },
  {
   "cell_type": "code",
   "execution_count": 16,
   "id": "08bc7d52-5d87-4333-9640-fadd429ddee7",
   "metadata": {},
   "outputs": [
    {
     "name": "stdout",
     "output_type": "stream",
     "text": [
      "{'name': 'John', 'age': 25, 'address': 'New York', 'phone': '1234567890'}\n"
     ]
    }
   ],
   "source": [
    "print(person)"
   ]
  },
  {
   "cell_type": "code",
   "execution_count": 17,
   "id": "1e310886-7a88-4571-9c03-84569ab72af3",
   "metadata": {},
   "outputs": [],
   "source": [
    "my_set = {1, 2, 3, 4, 5}"
   ]
  },
  {
   "cell_type": "code",
   "execution_count": 18,
   "id": "d3c7730f-f78e-44bf-af5a-7f062e2c069f",
   "metadata": {},
   "outputs": [
    {
     "name": "stdout",
     "output_type": "stream",
     "text": [
      "{1, 2, 3, 4, 5}\n"
     ]
    }
   ],
   "source": [
    "print(my_set)"
   ]
  },
  {
   "cell_type": "code",
   "execution_count": 19,
   "id": "4e84e260-b0e5-48f9-84b3-91992349619f",
   "metadata": {},
   "outputs": [],
   "source": [
    "my_set.add(6)"
   ]
  },
  {
   "cell_type": "code",
   "execution_count": 20,
   "id": "e4df685f-27f6-4719-8dfa-de2b62abd74c",
   "metadata": {},
   "outputs": [
    {
     "name": "stdout",
     "output_type": "stream",
     "text": [
      "{1, 2, 3, 4, 5, 6}\n"
     ]
    }
   ],
   "source": [
    "print(my_set)"
   ]
  },
  {
   "cell_type": "code",
   "execution_count": 21,
   "id": "76eb7882-cd3c-49c1-a709-3217a0e4bb85",
   "metadata": {},
   "outputs": [],
   "source": [
    "my_set.remove(3)"
   ]
  },
  {
   "cell_type": "code",
   "execution_count": 22,
   "id": "cfba7a1d-06f7-40ef-a9ca-92872f9eefdc",
   "metadata": {},
   "outputs": [
    {
     "name": "stdout",
     "output_type": "stream",
     "text": [
      "{1, 2, 4, 5, 6}\n"
     ]
    }
   ],
   "source": [
    "print(my_set)"
   ]
  },
  {
   "cell_type": "code",
   "execution_count": 26,
   "id": "e15d42ad-3247-4603-935e-51f105946ecd",
   "metadata": {},
   "outputs": [],
   "source": [
    "my_tuple = (1, 2, 3, 4)"
   ]
  },
  {
   "cell_type": "code",
   "execution_count": 24,
   "id": "118502f8-7265-48da-80c0-f50e6b338dc4",
   "metadata": {},
   "outputs": [
    {
     "name": "stdout",
     "output_type": "stream",
     "text": [
      "(1, 2, 3, 4)\n"
     ]
    }
   ],
   "source": [
    "print(my_tuple)"
   ]
  },
  {
   "cell_type": "code",
   "execution_count": 28,
   "id": "fc156809-4504-47c2-a0bc-1149fd7fbc8f",
   "metadata": {},
   "outputs": [
    {
     "name": "stdout",
     "output_type": "stream",
     "text": [
      "4\n"
     ]
    }
   ],
   "source": [
    "print(len(my_tuple))"
   ]
  },
  {
   "cell_type": "code",
   "execution_count": null,
   "id": "65d5f9cb-fa3d-4cbf-815d-218e17097772",
   "metadata": {},
   "outputs": [],
   "source": []
  }
 ],
 "metadata": {
  "kernelspec": {
   "display_name": "Python [conda env:base] *",
   "language": "python",
   "name": "conda-base-py"
  },
  "language_info": {
   "codemirror_mode": {
    "name": "ipython",
    "version": 3
   },
   "file_extension": ".py",
   "mimetype": "text/x-python",
   "name": "python",
   "nbconvert_exporter": "python",
   "pygments_lexer": "ipython3",
   "version": "3.12.7"
  }
 },
 "nbformat": 4,
 "nbformat_minor": 5
}
