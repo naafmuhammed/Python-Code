{
 "cells": [
  {
   "cell_type": "markdown",
   "id": "36757dba-8ccf-41ef-a161-59ebaddb0329",
   "metadata": {},
   "source": [
    "MonthNames.py"
   ]
  },
  {
   "cell_type": "code",
   "execution_count": 1,
   "id": "7ca7655b-f640-4e61-94b8-583c3adaff65",
   "metadata": {},
   "outputs": [],
   "source": [
    "month_names = {\n",
    "    1: \"January\",\n",
    "    2: \"February\",\n",
    "    3: \"March\",\n",
    "    4: \"April\",\n",
    "    5: \"May\",\n",
    "    6: \"June\",\n",
    "    7: \"July\",\n",
    "    8: \"August\",\n",
    "    9: \"September\",\n",
    "    10: \"October\",\n",
    "    11: \"November\",\n",
    "    12: \"December\"\n",
    "}"
   ]
  },
  {
   "cell_type": "code",
   "execution_count": 10,
   "id": "5306395c-f32a-4ded-94f7-d9c8e9fde7be",
   "metadata": {},
   "outputs": [
    {
     "name": "stdin",
     "output_type": "stream",
     "text": [
      "february:  2\n"
     ]
    }
   ],
   "source": [
    "month = int(input(\"february: \"))"
   ]
  },
  {
   "cell_type": "code",
   "execution_count": 9,
   "id": "92d6395a-6452-4611-affc-51836c394ab9",
   "metadata": {},
   "outputs": [
    {
     "name": "stdout",
     "output_type": "stream",
     "text": [
      "Invalid month number. Please enter a number between 1 and 12.\n"
     ]
    }
   ],
   "source": [
    "if 1 <= month <= 12:\n",
    "    print(f\"Month {month} is {month_names[month]}\")\n",
    "else:\n",
    "    print(\"Invalid month number. Please enter a number between 1 and 12.\")"
   ]
  },
  {
   "cell_type": "code",
   "execution_count": 12,
   "id": "610b863d-a723-429a-9fb3-04ec0c6c05f4",
   "metadata": {},
   "outputs": [
    {
     "name": "stdin",
     "output_type": "stream",
     "text": [
      "february:  13\n"
     ]
    }
   ],
   "source": [
    "month = int(input(\"february: \"))"
   ]
  },
  {
   "cell_type": "code",
   "execution_count": 13,
   "id": "5d5f692c-9a5f-45c4-bee6-12ff8d9028ba",
   "metadata": {},
   "outputs": [
    {
     "name": "stdout",
     "output_type": "stream",
     "text": [
      "Invalid month number. Please enter a number between 1 and 12.\n"
     ]
    }
   ],
   "source": [
    "if 1 <= month <= 12:\n",
    "    print(f\"Month {month} is {month_names[month]}\")\n",
    "else:\n",
    "    print(\"Invalid month number. Please enter a number between 1 and 12.\")"
   ]
  },
  {
   "cell_type": "raw",
   "id": "0e1b5798-2bb8-461c-b0f5-fde65107c78e",
   "metadata": {},
   "source": [
    "CinemaTicket.py"
   ]
  },
  {
   "cell_type": "code",
   "execution_count": 14,
   "id": "63c0e4f6-54bc-40bf-8eeb-daa6c394921d",
   "metadata": {},
   "outputs": [],
   "source": [
    "full_price = 6.0"
   ]
  },
  {
   "cell_type": "code",
   "execution_count": 23,
   "id": "b16c09bf-db41-45ae-8391-bba0af347900",
   "metadata": {},
   "outputs": [
    {
     "name": "stdin",
     "output_type": "stream",
     "text": [
      "63:  63\n"
     ]
    }
   ],
   "source": [
    "age = int(input(\"63: \"))"
   ]
  },
  {
   "cell_type": "code",
   "execution_count": 25,
   "id": "22e20b9a-cb9a-46bb-bb24-b2a70249bec9",
   "metadata": {},
   "outputs": [],
   "source": [
    "if age < 16:\n",
    "    price = full_price / 2\n",
    "elif age >= 60:\n",
    "    price = full_price / 3\n",
    "else:\n",
    "    price = full_price"
   ]
  },
  {
   "cell_type": "code",
   "execution_count": 26,
   "id": "30fc5b44-7ca9-450f-bfab-9ad4b97bdc4a",
   "metadata": {},
   "outputs": [
    {
     "name": "stdout",
     "output_type": "stream",
     "text": [
      "Your ticket costs £2.00\n"
     ]
    }
   ],
   "source": [
    "print(f\"Your ticket costs £{price:.2f}\")"
   ]
  },
  {
   "cell_type": "raw",
   "id": "4a9be5d7-9447-47b4-abdf-e0cba001314c",
   "metadata": {},
   "source": [
    "BodyMassIndex.py"
   ]
  },
  {
   "cell_type": "code",
   "execution_count": 29,
   "id": "4541e48e-0e85-4b02-97cc-07a5aeeb71a0",
   "metadata": {},
   "outputs": [
    {
     "name": "stdin",
     "output_type": "stream",
     "text": [
      "59 (kg):  59\n",
      "145 (m):  145\n"
     ]
    }
   ],
   "source": [
    "weight = float(input(\"59 (kg): \"))\n",
    "height = float(input(\"145 (m): \"))"
   ]
  },
  {
   "cell_type": "code",
   "execution_count": 30,
   "id": "4fba0691-0de1-4181-b77a-6af959ea52c4",
   "metadata": {},
   "outputs": [],
   "source": [
    "bmi = weight / (height ** 2)"
   ]
  },
  {
   "cell_type": "code",
   "execution_count": 32,
   "id": "0a5edc3f-93f9-482f-a96e-15f214fdc3fd",
   "metadata": {},
   "outputs": [],
   "source": [
    "if bmi < 18.5:\n",
    "    status = \"underweight\"\n",
    "elif 18.5 <= bmi <= 24.9:\n",
    "    status = \"normal\"\n",
    "elif 25 <= bmi <= 29.9:\n",
    "    status = \"overweight\"\n",
    "else:\n",
    "    status = \"obese\"\n"
   ]
  },
  {
   "cell_type": "code",
   "execution_count": 33,
   "id": "f2504af2-1756-4a1e-b26e-b09d78f76467",
   "metadata": {},
   "outputs": [
    {
     "name": "stdout",
     "output_type": "stream",
     "text": [
      "Your BMI is: 0.00\n"
     ]
    }
   ],
   "source": [
    "print(f\"Your BMI is: {bmi:.2f}\")"
   ]
  },
  {
   "cell_type": "code",
   "execution_count": 34,
   "id": "89d04580-fec3-4e34-96c1-0eb88c3ef3af",
   "metadata": {},
   "outputs": [
    {
     "name": "stdout",
     "output_type": "stream",
     "text": [
      "You are in the “underweight” range.\n"
     ]
    }
   ],
   "source": [
    "print(f\"You are in the “{status}” range.\")"
   ]
  },
  {
   "cell_type": "raw",
   "id": "321ef052-c212-49de-8e28-1132203b03ba",
   "metadata": {},
   "source": [
    "GreatestOfThree.py"
   ]
  },
  {
   "cell_type": "code",
   "execution_count": 35,
   "id": "7e9bddb3-5e54-4c63-91e2-5d1efd114c37",
   "metadata": {},
   "outputs": [
    {
     "name": "stdin",
     "output_type": "stream",
     "text": [
      "1:  1\n",
      "2:  2\n",
      "3:  3\n"
     ]
    }
   ],
   "source": [
    "num1 = float(input(\"1: \"))\n",
    "num2 = float(input(\"2: \"))\n",
    "num3 = float(input(\"3: \"))"
   ]
  },
  {
   "cell_type": "code",
   "execution_count": 36,
   "id": "46da6ead-8088-4a77-88c6-497c3e66a5e5",
   "metadata": {},
   "outputs": [],
   "source": [
    "if num1 >= num2 and num1 >= num3:\n",
    "    greatest = num1\n",
    "elif num2 >= num1 and num2 >= num3:\n",
    "    greatest = num2\n",
    "else:\n",
    "    greatest = num3"
   ]
  },
  {
   "cell_type": "code",
   "execution_count": 37,
   "id": "7758055a-0610-464d-85d5-1caeb1f1cb57",
   "metadata": {},
   "outputs": [
    {
     "name": "stdout",
     "output_type": "stream",
     "text": [
      "The greatest number is: 3.0\n"
     ]
    }
   ],
   "source": [
    "print(f\"The greatest number is: {greatest}\")"
   ]
  },
  {
   "cell_type": "code",
   "execution_count": 41,
   "id": "855fe43a-b8c5-4a15-92e4-731ac8d0aea6",
   "metadata": {},
   "outputs": [
    {
     "name": "stdin",
     "output_type": "stream",
     "text": [
      "0:  0\n"
     ]
    }
   ],
   "source": [
    "num = int(input(\"0: \"))\n"
   ]
  },
  {
   "cell_type": "code",
   "execution_count": 42,
   "id": "70da5d29-0499-4ec9-9de4-8e6233f1f3fb",
   "metadata": {},
   "outputs": [],
   "source": [
    "factorial = 1"
   ]
  },
  {
   "cell_type": "code",
   "execution_count": 43,
   "id": "8e987cd2-d0a5-4bbe-98e1-486dc1543147",
   "metadata": {},
   "outputs": [
    {
     "name": "stdout",
     "output_type": "stream",
     "text": [
      "The factorial of 0 is 1.\n"
     ]
    }
   ],
   "source": [
    "if num < 0:\n",
    "    print(\"Factorial is not defined for negative numbers.\")\n",
    "elif num == 0:\n",
    "    print(\"The factorial of 0 is 1.\")\n",
    "else:\n",
    "    for i in range(1, num + 1):\n",
    "        factorial *= i\n",
    "    print(f\"The factorial of {num} is {factorial}.\")"
   ]
  },
  {
   "cell_type": "code",
   "execution_count": 44,
   "id": "c0e6e905-8948-45e0-b405-e140b801c724",
   "metadata": {},
   "outputs": [
    {
     "name": "stdin",
     "output_type": "stream",
     "text": [
      "1:  1\n"
     ]
    }
   ],
   "source": [
    "num = int(input(\"1: \"))"
   ]
  },
  {
   "cell_type": "code",
   "execution_count": 45,
   "id": "a729a36c-96de-417c-9a63-a64e35598b36",
   "metadata": {},
   "outputs": [],
   "source": [
    "original_num = num\n"
   ]
  },
  {
   "cell_type": "code",
   "execution_count": 46,
   "id": "18fe614e-8b43-4baa-a5ff-a2a3ddad4505",
   "metadata": {},
   "outputs": [],
   "source": [
    "reversed_num = 0"
   ]
  },
  {
   "cell_type": "code",
   "execution_count": 47,
   "id": "6d90eb2a-cf0c-4c1b-bc5c-330642bef193",
   "metadata": {},
   "outputs": [],
   "source": [
    "is_negative = num < 0\n",
    "num = abs(num)"
   ]
  },
  {
   "cell_type": "code",
   "execution_count": 48,
   "id": "345d299e-88ac-40f9-b48a-a955923f1611",
   "metadata": {},
   "outputs": [],
   "source": [
    "while num > 0:\n",
    "    digit = num % 10\n",
    "    reversed_num = reversed_num * 10 + digit\n",
    "    num //= 10"
   ]
  },
  {
   "cell_type": "code",
   "execution_count": 49,
   "id": "cf0ae8ab-278d-4624-a16b-e9f70f27958b",
   "metadata": {},
   "outputs": [],
   "source": [
    "if is_negative:\n",
    "    reversed_num = -reversed_num"
   ]
  },
  {
   "cell_type": "code",
   "execution_count": 50,
   "id": "2c840b7c-1a98-491f-a24f-a1a615373533",
   "metadata": {},
   "outputs": [
    {
     "name": "stdout",
     "output_type": "stream",
     "text": [
      "The reverse of 1 is 1.\n"
     ]
    }
   ],
   "source": [
    "print(f\"The reverse of {original_num} is {reversed_num}.\")"
   ]
  },
  {
   "cell_type": "code",
   "execution_count": 52,
   "id": "599b5d96-efa9-476b-9fb0-f4f07c02076b",
   "metadata": {},
   "outputs": [
    {
     "name": "stdin",
     "output_type": "stream",
     "text": [
      "2:  2\n"
     ]
    }
   ],
   "source": [
    "num = int(input(\"2: \"))"
   ]
  },
  {
   "cell_type": "code",
   "execution_count": 57,
   "id": "704c63fb-0a99-4f90-a4d9-f1e4208bdeb7",
   "metadata": {},
   "outputs": [
    {
     "name": "stdin",
     "output_type": "stream",
     "text": [
      "10 10\n"
     ]
    }
   ],
   "source": [
    "count = int(input(\"10\"))"
   ]
  },
  {
   "cell_type": "code",
   "execution_count": 58,
   "id": "1d0052f7-517f-491f-8041-be663c12f153",
   "metadata": {},
   "outputs": [
    {
     "name": "stdout",
     "output_type": "stream",
     "text": [
      "The first 10 multiples of 2 are:\n"
     ]
    }
   ],
   "source": [
    "print(f\"The first {count} multiples of {num} are:\")"
   ]
  },
  {
   "cell_type": "code",
   "execution_count": 59,
   "id": "029610d3-8c35-4850-aeb3-7126eb0079b9",
   "metadata": {},
   "outputs": [
    {
     "name": "stdout",
     "output_type": "stream",
     "text": [
      "2\n",
      "4\n",
      "6\n",
      "8\n",
      "10\n",
      "12\n",
      "14\n",
      "16\n",
      "18\n",
      "20\n"
     ]
    }
   ],
   "source": [
    "for i in range(1, count + 1):\n",
    "    multiple = num * i\n",
    "    print(multiple)"
   ]
  },
  {
   "cell_type": "code",
   "execution_count": 60,
   "id": "711cbfb4-ccb3-4673-a28a-4388422838f2",
   "metadata": {},
   "outputs": [
    {
     "name": "stdin",
     "output_type": "stream",
     "text": [
      ": hallo\n"
     ]
    },
    {
     "name": "stdout",
     "output_type": "stream",
     "text": [
      "hallo\n"
     ]
    },
    {
     "name": "stdin",
     "output_type": "stream",
     "text": [
      ": hallo\n"
     ]
    },
    {
     "name": "stdout",
     "output_type": "stream",
     "text": [
      "hallo\n"
     ]
    },
    {
     "name": "stdin",
     "output_type": "stream",
     "text": [
      ": 1\n"
     ]
    },
    {
     "name": "stdout",
     "output_type": "stream",
     "text": [
      "1\n"
     ]
    },
    {
     "name": "stdin",
     "output_type": "stream",
     "text": [
      ": 1\n"
     ]
    },
    {
     "name": "stdout",
     "output_type": "stream",
     "text": [
      "1\n"
     ]
    },
    {
     "name": "stdin",
     "output_type": "stream",
     "text": [
      ": done\n"
     ]
    },
    {
     "name": "stdout",
     "output_type": "stream",
     "text": [
      "done\n"
     ]
    }
   ],
   "source": [
    "while True:\n",
    "    user_input = input(\":1\")\n",
    "    print(user_input)\n",
    "    if user_input.lower() == \"done\":\n",
    "        break"
   ]
  },
  {
   "cell_type": "code",
   "execution_count": 61,
   "id": "e05edeb2-7b21-4307-8312-42c4abcfd55e",
   "metadata": {},
   "outputs": [
    {
     "name": "stdout",
     "output_type": "stream",
     "text": [
      "1\n",
      "2\n",
      "Fizz\n",
      "4\n",
      "Buzz\n",
      "Fizz\n",
      "7\n",
      "8\n",
      "Fizz\n",
      "Buzz\n"
     ]
    }
   ],
   "source": [
    "for i in range(1, 11):\n",
    "    if i % 3 == 0 and i % 5 == 0:\n",
    "        print(\"FizzBuzz\")\n",
    "    elif i % 3 == 0:\n",
    "        print(\"Fizz\")\n",
    "    elif i % 5 == 0:\n",
    "        print(\"Buzz\")\n",
    "    else:\n",
    "        print(i)\n",
    "        "
   ]
  },
  {
   "cell_type": "code",
   "execution_count": 62,
   "id": "161a8ac3-8cac-4ea9-be7d-e97a8a8e7fc1",
   "metadata": {},
   "outputs": [
    {
     "name": "stdout",
     "output_type": "stream",
     "text": [
      "5 4 3 2 1 \n",
      "4 3 2 1 \n",
      "3 2 1 \n",
      "2 1 \n",
      "1 \n"
     ]
    }
   ],
   "source": [
    "for i in range(5, 0, -1):\n",
    "    for j in range(i, 0, -1):\n",
    "        print(j, end=\" \")\n",
    "    print()\n",
    "    "
   ]
  },
  {
   "cell_type": "code",
   "execution_count": null,
   "id": "3c4699aa-ef9e-44dd-a25c-936e8da507d8",
   "metadata": {},
   "outputs": [],
   "source": []
  }
 ],
 "metadata": {
  "kernelspec": {
   "display_name": "Python [conda env:base] *",
   "language": "python",
   "name": "conda-base-py"
  },
  "language_info": {
   "codemirror_mode": {
    "name": "ipython",
    "version": 3
   },
   "file_extension": ".py",
   "mimetype": "text/x-python",
   "name": "python",
   "nbconvert_exporter": "python",
   "pygments_lexer": "ipython3",
   "version": "3.12.7"
  }
 },
 "nbformat": 4,
 "nbformat_minor": 5
}
