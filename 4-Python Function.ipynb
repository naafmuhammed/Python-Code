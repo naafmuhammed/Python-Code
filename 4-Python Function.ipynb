{
 "cells": [
  {
   "cell_type": "code",
   "execution_count": 1,
   "id": "7b5c80cf-4b91-41d8-8cb5-8d8a3402a019",
   "metadata": {},
   "outputs": [],
   "source": [
    "def custom_function(a, b=10, c=None):\n",
    "    if c is None:\n",
    "        print(\"Sum:\", a + b)\n",
    "    else:\n",
    "        print(\"Product:\", a * b * c)\n"
   ]
  },
  {
   "cell_type": "code",
   "execution_count": 2,
   "id": "55e873d6-203d-4328-9096-c3b8b2d21e02",
   "metadata": {},
   "outputs": [
    {
     "name": "stdout",
     "output_type": "stream",
     "text": [
      "Sum: 15\n"
     ]
    }
   ],
   "source": [
    "custom_function(5)"
   ]
  },
  {
   "cell_type": "code",
   "execution_count": 3,
   "id": "4c30e7fc-f4a2-443d-8a14-dff6071c67d2",
   "metadata": {},
   "outputs": [
    {
     "name": "stdout",
     "output_type": "stream",
     "text": [
      "Sum: 10\n"
     ]
    }
   ],
   "source": [
    "custom_function(3, b=7)"
   ]
  },
  {
   "cell_type": "code",
   "execution_count": 4,
   "id": "120ae8b8-dd0c-4b5c-bc25-fcede24a4f5a",
   "metadata": {},
   "outputs": [
    {
     "name": "stdout",
     "output_type": "stream",
     "text": [
      "Product: 80\n"
     ]
    }
   ],
   "source": [
    "custom_function(2, c=4)"
   ]
  },
  {
   "cell_type": "code",
   "execution_count": 5,
   "id": "8ed18658-581f-4d92-8579-6a753af31b35",
   "metadata": {},
   "outputs": [
    {
     "name": "stdout",
     "output_type": "stream",
     "text": [
      "Product: 30\n"
     ]
    }
   ],
   "source": [
    "custom_function(2, b=3, c=5) "
   ]
  },
  {
   "cell_type": "code",
   "execution_count": 6,
   "id": "bd675052-ccee-42e2-b642-f8f799f49ea1",
   "metadata": {},
   "outputs": [],
   "source": [
    "def filter_long_strings(strings):\n",
    "    return [s for s in strings if len(s) >= 5]"
   ]
  },
  {
   "cell_type": "code",
   "execution_count": 7,
   "id": "192532df-9d1d-4462-a287-7da99741349b",
   "metadata": {},
   "outputs": [],
   "source": [
    "words = [\"apple\", \"cat\", \"banana\", \"dog\", \"grape\"]\n",
    "result = filter_long_strings(words)"
   ]
  },
  {
   "cell_type": "code",
   "execution_count": 8,
   "id": "d0848fd5-17c3-49e8-b499-90b5e4da22f4",
   "metadata": {},
   "outputs": [
    {
     "name": "stdout",
     "output_type": "stream",
     "text": [
      "['apple', 'banana', 'grape']\n"
     ]
    }
   ],
   "source": [
    "print(result)"
   ]
  },
  {
   "cell_type": "code",
   "execution_count": 9,
   "id": "28f29cf7-af63-4d47-8c33-07c109661043",
   "metadata": {},
   "outputs": [],
   "source": [
    "expression = \"3 * 5 + 2\"\n",
    "result = eval(expression)"
   ]
  },
  {
   "cell_type": "code",
   "execution_count": 10,
   "id": "cde82a9a-5632-430b-bbd6-f246cfb42f33",
   "metadata": {},
   "outputs": [
    {
     "name": "stdout",
     "output_type": "stream",
     "text": [
      "Result: 17\n"
     ]
    }
   ],
   "source": [
    "print(\"Result:\", result)"
   ]
  },
  {
   "cell_type": "code",
   "execution_count": 11,
   "id": "42c0d7e6-a064-476c-aa3c-6b4785f4bbae",
   "metadata": {},
   "outputs": [],
   "source": [
    "def is_prime(n):\n",
    "    if n < 2:\n",
    "        return False\n",
    "    for i in range(2, int(n**0.5) + 1):\n",
    "        if n % i == 0:\n",
    "            return False\n",
    "    return True"
   ]
  },
  {
   "cell_type": "code",
   "execution_count": 13,
   "id": "ce780479-f241-43f9-8698-b2c161c37263",
   "metadata": {},
   "outputs": [],
   "source": [
    "numbers = [2, 3, 4, 5, 6, 7, 8, 9, 10, 11, 13, 15]"
   ]
  },
  {
   "cell_type": "code",
   "execution_count": 14,
   "id": "c29452a8-bd34-4e59-9fa8-3ac604cb3ec4",
   "metadata": {},
   "outputs": [],
   "source": [
    "prime_numbers = list(filter(is_prime, numbers))"
   ]
  },
  {
   "cell_type": "code",
   "execution_count": 15,
   "id": "2db427b0-0afb-4424-adbe-95194dfb9d39",
   "metadata": {},
   "outputs": [
    {
     "name": "stdout",
     "output_type": "stream",
     "text": [
      "Prime numbers: [2, 3, 5, 7, 11, 13]\n"
     ]
    }
   ],
   "source": [
    "print(\"Prime numbers:\", prime_numbers)"
   ]
  },
  {
   "cell_type": "code",
   "execution_count": 16,
   "id": "094e6f26-9b06-494d-ab35-28ad353d8b23",
   "metadata": {},
   "outputs": [],
   "source": [
    "words = [\"apple\", \"banana\", \"cherry\", \"date\"]"
   ]
  },
  {
   "cell_type": "code",
   "execution_count": 17,
   "id": "24f11e83-0274-49da-94f6-030a74fbbbbf",
   "metadata": {},
   "outputs": [],
   "source": [
    "uppercase_words = list(map(str.upper, words))"
   ]
  },
  {
   "cell_type": "code",
   "execution_count": 18,
   "id": "d3ebe8f8-44c0-47ba-89d4-da4ae3afd630",
   "metadata": {},
   "outputs": [
    {
     "name": "stdout",
     "output_type": "stream",
     "text": [
      "Uppercase words: ['APPLE', 'BANANA', 'CHERRY', 'DATE']\n"
     ]
    }
   ],
   "source": [
    "print(\"Uppercase words:\", uppercase_words)"
   ]
  },
  {
   "cell_type": "code",
   "execution_count": null,
   "id": "2bd8f5e2-2cd3-41f5-9acc-c4ee5ac56a62",
   "metadata": {},
   "outputs": [],
   "source": []
  }
 ],
 "metadata": {
  "kernelspec": {
   "display_name": "Python [conda env:base] *",
   "language": "python",
   "name": "conda-base-py"
  },
  "language_info": {
   "codemirror_mode": {
    "name": "ipython",
    "version": 3
   },
   "file_extension": ".py",
   "mimetype": "text/x-python",
   "name": "python",
   "nbconvert_exporter": "python",
   "pygments_lexer": "ipython3",
   "version": "3.12.7"
  }
 },
 "nbformat": 4,
 "nbformat_minor": 5
}
