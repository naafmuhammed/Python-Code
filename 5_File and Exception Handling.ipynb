{
 "cells": [
  {
   "cell_type": "code",
   "execution_count": 1,
   "id": "418f238a-3a27-4b12-986a-247d9e851f43",
   "metadata": {},
   "outputs": [
    {
     "name": "stdin",
     "output_type": "stream",
     "text": [
      "Library:  Library\n"
     ]
    }
   ],
   "source": [
    "filename = input(\"Library: \")"
   ]
  },
  {
   "cell_type": "code",
   "execution_count": 4,
   "id": "04e0e676-512e-4716-b7ad-4c11548f7f35",
   "metadata": {},
   "outputs": [
    {
     "name": "stdout",
     "output_type": "stream",
     "text": [
      "Error: The file 'Library' does not exist.\n"
     ]
    }
   ],
   "source": [
    "try:\n",
    "    with open(filename, 'r') as file:\n",
    "        contents = file.read()\n",
    "    print(\"\\nFile contents:\\n\")\n",
    "    print(contents)\n",
    "except FileNotFoundError:\n",
    "    print(f\"Error: The file '{filename}' does not exist.\")\n",
    "except Exception as e:\n",
    "    print(f\"An error occurred: {e}\")"
   ]
  },
  {
   "cell_type": "code",
   "execution_count": 6,
   "id": "df9df2f7-a4e0-436c-8caa-d45521442ae8",
   "metadata": {},
   "outputs": [
    {
     "name": "stdin",
     "output_type": "stream",
     "text": [
      "Library:  Library\n",
      "Library:  Library\n"
     ]
    }
   ],
   "source": [
    "source_file = input(\"Library: \")\n",
    "destination_file = input(\"Library: \")"
   ]
  },
  {
   "cell_type": "code",
   "execution_count": 7,
   "id": "c6556d0f-311d-48a5-839f-d541e1524b54",
   "metadata": {},
   "outputs": [
    {
     "name": "stdout",
     "output_type": "stream",
     "text": [
      "Error: The file 'Library' does not exist.\n"
     ]
    }
   ],
   "source": [
    "try:\n",
    "    with open(source_file, 'r') as src, open(destination_file, 'w') as dest:\n",
    "        for line in src:\n",
    "            dest.write(line)\n",
    "    print(f\"Contents copied from '{source_file}' to '{destination_file}' successfully.\")\n",
    "except FileNotFoundError:\n",
    "    print(f\"Error: The file '{source_file}' does not exist.\")\n",
    "except Exception as e:\n",
    "    print(f\"An error occurred: {e}\")"
   ]
  },
  {
   "cell_type": "code",
   "execution_count": 8,
   "id": "d7fcab30-7d97-483c-811a-5db3e3c61512",
   "metadata": {},
   "outputs": [
    {
     "name": "stdin",
     "output_type": "stream",
     "text": [
      "Library:  library\n"
     ]
    }
   ],
   "source": [
    "filename = input(\"Library: \")"
   ]
  },
  {
   "cell_type": "code",
   "execution_count": 10,
   "id": "467a5184-9e60-4e76-9410-833bb642816a",
   "metadata": {},
   "outputs": [
    {
     "name": "stdout",
     "output_type": "stream",
     "text": [
      "Error: The file 'library' does not exist.\n"
     ]
    }
   ],
   "source": [
    "try:\n",
    "    with open(filename, 'r') as file:\n",
    "        contents = file.read()\n",
    "    words = contents.split()\n",
    "    word_count = len(words)\n",
    "    print(f\"The total number of words in '{filename}' is: {word_count}\")\n",
    "except FileNotFoundError:\n",
    "except Exception as e:\n",
    "    print(f\"An error occurred: {e}\")"
   ]
  },
  {
   "cell_type": "code",
   "execution_count": 11,
   "id": "ed2496a9-d318-4bf3-a74c-a79ca9970a0f",
   "metadata": {},
   "outputs": [
    {
     "name": "stdin",
     "output_type": "stream",
     "text": [
      "1:  1\n"
     ]
    }
   ],
   "source": [
    "user_input = input(\"1: \")"
   ]
  },
  {
   "cell_type": "code",
   "execution_count": 12,
   "id": "ca3be891-337c-4dbb-bf60-dbdf0833f56f",
   "metadata": {},
   "outputs": [
    {
     "name": "stdout",
     "output_type": "stream",
     "text": [
      "The integer value is: 1\n"
     ]
    }
   ],
   "source": [
    "try:\n",
    "    number = int(user_input)\n",
    "    print(f\"The integer value is: {number}\")\n",
    "except ValueError:\n",
    "    print(\"Error: You did not enter a valid integer.\")\n",
    "except Exception as e:\n",
    "    print(f\"An unexpected error occurred: {e}\")"
   ]
  },
  {
   "cell_type": "code",
   "execution_count": 13,
   "id": "ac3f308f-663e-487f-9da9-2948a8d0c8e1",
   "metadata": {},
   "outputs": [],
   "source": [
    "class NegativeIntegerError(Exception):\n",
    "    pass\n",
    "\n",
    "def get_integer_list():\n",
    "    user_input = input(\"Enter a list of integers separated by commas: \")\n",
    "    int_list = [int(x.strip()) for x in user_input.split(',')]\n",
    "    return int_list"
   ]
  },
  {
   "cell_type": "code",
   "execution_count": 14,
   "id": "26f78c81-c2bf-41be-a080-0926138b052f",
   "metadata": {},
   "outputs": [
    {
     "name": "stdin",
     "output_type": "stream",
     "text": [
      "Enter a list of integers separated by commas:  1\n"
     ]
    },
    {
     "name": "stdout",
     "output_type": "stream",
     "text": [
      "All integers are non-negative.\n"
     ]
    }
   ],
   "source": [
    "try:\n",
    "    numbers = get_integer_list()\n",
    "    \n",
    "    for num in numbers:\n",
    "        if num < 0:\n",
    "            raise NegativeIntegerError(f\"Negative integer found: {num}\")\n",
    "    print(\"All integers are non-negative.\")\n",
    "except NegativeIntegerError as e:\n",
    "    print(f\"Error: {e}\")\n",
    "except ValueError:\n",
    "    print(\"Error: Please enter valid integers separated by commas.\")\n",
    "except Exception as e:\n",
    "    print(f\"An unexpected error occurred: {e}\")"
   ]
  },
  {
   "cell_type": "code",
   "execution_count": 16,
   "id": "515dbb2b-5459-49ff-8ad5-a0f4b6063fa2",
   "metadata": {},
   "outputs": [
    {
     "name": "stdin",
     "output_type": "stream",
     "text": [
      "1,2.3.4.:  1,2,3,4,5,\n"
     ]
    },
    {
     "name": "stdout",
     "output_type": "stream",
     "text": [
      "Error: invalid literal for int() with base 10: ''\n",
      "Program has finished running.\n"
     ]
    }
   ],
   "source": [
    "try:\n",
    "    user_input = input(\"1,2.3.4.: \")\n",
    "    numbers = [int(x.strip()) for x in user_input.split(',')]\n",
    "    \n",
    "    if len(numbers) == 0:\n",
    "        raise ValueError(\"The list is empty.\")\n",
    "    \n",
    "    average = sum(numbers) / len(numbers)\n",
    "    print(f\"The average of the entered integers is: {average}\")\n",
    "\n",
    "except ValueError as e:\n",
    "    print(f\"Error: {e}\")\n",
    "except Exception as e:\n",
    "    print(f\"An unexpected error occurred: {e}\")\n",
    "finally:\n",
    "    print(\"Program has finished running.\")"
   ]
  },
  {
   "cell_type": "code",
   "execution_count": 17,
   "id": "71868f7d-bcd8-4ef9-b3ca-cbe608edb7ea",
   "metadata": {},
   "outputs": [
    {
     "name": "stdin",
     "output_type": "stream",
     "text": [
      "Library:  Library\n",
      "books:  books\n"
     ]
    },
    {
     "name": "stdout",
     "output_type": "stream",
     "text": [
      "Welcome! The text was written to the file successfully.\n"
     ]
    }
   ],
   "source": [
    "try:\n",
    "    filename = input(\"Library: \")\n",
    "    text_to_write = input(\"books: \")\n",
    "\n",
    "    with open(filename, 'w') as file:\n",
    "        file.write(text_to_write)\n",
    "\n",
    "except Exception as e:\n",
    "    print(f\"An error occurred: {e}\")\n",
    "else:\n",
    "    print(\"Welcome! The text was written to the file successfully.\")"
   ]
  },
  {
   "cell_type": "code",
   "execution_count": null,
   "id": "86c5f666-ceb4-409f-8d65-a3062a9b9547",
   "metadata": {},
   "outputs": [],
   "source": []
  }
 ],
 "metadata": {
  "kernelspec": {
   "display_name": "Python [conda env:base] *",
   "language": "python",
   "name": "conda-base-py"
  },
  "language_info": {
   "codemirror_mode": {
    "name": "ipython",
    "version": 3
   },
   "file_extension": ".py",
   "mimetype": "text/x-python",
   "name": "python",
   "nbconvert_exporter": "python",
   "pygments_lexer": "ipython3",
   "version": "3.12.7"
  }
 },
 "nbformat": 4,
 "nbformat_minor": 5
}
