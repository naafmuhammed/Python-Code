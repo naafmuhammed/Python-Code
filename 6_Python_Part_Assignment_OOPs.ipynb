{
 "cells": [
  {
   "cell_type": "code",
   "execution_count": 1,
   "id": "580cb9fb-a85c-4109-8823-3d76370b22c7",
   "metadata": {},
   "outputs": [],
   "source": [
    "class Course:\n",
    "    def __init__(self, course_code: str, course_name: str, credit_hours: int):\n",
    "        self.course_code = course_code\n",
    "        self.course_name = course_name\n",
    "        self.credit_hours = credit_hours\n",
    "\n",
    "    def __str__(self):\n",
    "        return f\"{self.course_code}: {self.course_name} ({self.credit_hours} credit hours)\""
   ]
  },
  {
   "cell_type": "code",
   "execution_count": 2,
   "id": "36117ff3-0625-429a-b1fc-ae51994e34a2",
   "metadata": {},
   "outputs": [],
   "source": [
    "class CoreCourse(Course):\n",
    "    def __init__(self, course_code: str, course_name: str, credit_hours: int, required_for_major: bool):\n",
    "        super().__init__(course_code, course_name, credit_hours)\n",
    "        self.required_for_major = required_for_major\n",
    "\n",
    "    def __str__(self):\n",
    "        req = \"Required\" if self.required_for_major else \"Not Required\"\n",
    "        return f\"{super().__str__()} - Core Course ({req} for major)\""
   ]
  },
  {
   "cell_type": "code",
   "execution_count": 3,
   "id": "07fb7dda-ced8-4419-927c-6eba3cc3d16d",
   "metadata": {},
   "outputs": [],
   "source": [
    "class ElectiveCourse(Course):\n",
    "    def __init__(self, course_code: str, course_name: str, credit_hours: int, elective_type: str):\n",
    "        super().__init__(course_code, course_name, credit_hours)\n",
    "        self.elective_type = elective_type\n",
    "\n",
    "    def __str__(self):\n",
    "        return f\"{super().__str__()} - Elective Course ({self.elective_type})\""
   ]
  },
  {
   "cell_type": "code",
   "execution_count": 5,
   "id": "05a30798-65ff-43f0-aabe-12bd12bcddce",
   "metadata": {},
   "outputs": [],
   "source": [
    "core = CoreCourse(\"CS101\", \"Introduction to Computer Science\", 3, True)\n",
    "elective = ElectiveCourse(\"HIST210\", \"World History\", 3, \"liberal arts\")"
   ]
  },
  {
   "cell_type": "code",
   "execution_count": 6,
   "id": "56e4d364-f477-473e-9283-32e5537b7f8b",
   "metadata": {},
   "outputs": [
    {
     "name": "stdout",
     "output_type": "stream",
     "text": [
      "CS101: Introduction to Computer Science (3 credit hours) - Core Course (Required for major)\n"
     ]
    }
   ],
   "source": [
    "print(core)"
   ]
  },
  {
   "cell_type": "code",
   "execution_count": 7,
   "id": "3d518021-2788-4958-abb9-6ba2b2f22918",
   "metadata": {},
   "outputs": [
    {
     "name": "stdout",
     "output_type": "stream",
     "text": [
      "HIST210: World History (3 credit hours) - Elective Course (liberal arts)\n"
     ]
    }
   ],
   "source": [
    "print(elective)"
   ]
  },
  {
   "cell_type": "code",
   "execution_count": 13,
   "id": "f63c4e26-ce4d-4887-ac70-0c9da6a3baed",
   "metadata": {},
   "outputs": [],
   "source": [
    "class Employee:\n",
    "    def __init__(self, name: str, salary: float):\n",
    "        self.name = name\n",
    "        self.salary = salary\n",
    "\n",
    "    def get_name(self) -> str:\n",
    "        return self.name\n",
    "\n",
    "    def get_salary(self) -> float:\n",
    "        return self.salary"
   ]
  },
  {
   "cell_type": "code",
   "execution_count": 16,
   "id": "55bcd006-8208-4e12-b8ac-1abe2cf7d8c0",
   "metadata": {},
   "outputs": [],
   "source": [
    "# employee.py\n",
    "\n",
    "class Employee:\n",
    "    def __init__(self, name: str, salary: float):\n",
    "        self.name = name\n",
    "        self.salary = salary\n",
    "\n",
    "    def get_name(self) -> str:\n",
    "        return self.name\n",
    "\n",
    "    def get_salary(self) -> float:\n",
    "        return self.salary"
   ]
  },
  {
   "cell_type": "code",
   "execution_count": 20,
   "id": "92192aec-b6c8-4d74-8718-f6693d094ed4",
   "metadata": {},
   "outputs": [],
   "source": [
    "\n",
    "emp = Employee(\"Alice Johnson\", 75000)"
   ]
  },
  {
   "cell_type": "code",
   "execution_count": 21,
   "id": "e781b126-841e-4a94-b15f-bb082ca14d59",
   "metadata": {},
   "outputs": [
    {
     "name": "stdout",
     "output_type": "stream",
     "text": [
      "Employee Name: Alice Johnson\n"
     ]
    }
   ],
   "source": [
    "print(\"Employee Name:\", emp.get_name())"
   ]
  },
  {
   "cell_type": "code",
   "execution_count": 22,
   "id": "61c354f8-e5df-4e84-b1bc-6b23b0766813",
   "metadata": {},
   "outputs": [
    {
     "name": "stdout",
     "output_type": "stream",
     "text": [
      "Employee Salary: 75000\n"
     ]
    }
   ],
   "source": [
    "print(\"Employee Salary:\", emp.get_salary())"
   ]
  },
  {
   "cell_type": "code",
   "execution_count": null,
   "id": "991c23f4-c8a3-47b3-a429-334b79f0ad99",
   "metadata": {},
   "outputs": [],
   "source": []
  }
 ],
 "metadata": {
  "kernelspec": {
   "display_name": "Python [conda env:base] *",
   "language": "python",
   "name": "conda-base-py"
  },
  "language_info": {
   "codemirror_mode": {
    "name": "ipython",
    "version": 3
   },
   "file_extension": ".py",
   "mimetype": "text/x-python",
   "name": "python",
   "nbconvert_exporter": "python",
   "pygments_lexer": "ipython3",
   "version": "3.12.7"
  }
 },
 "nbformat": 4,
 "nbformat_minor": 5
}
