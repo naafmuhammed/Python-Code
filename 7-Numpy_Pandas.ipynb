{
 "cells": [
  {
   "cell_type": "code",
   "execution_count": 1,
   "id": "b1e720c0-0016-458a-9de7-91ac2ceba38b",
   "metadata": {},
   "outputs": [],
   "source": [
    "import numpy as np"
   ]
  },
  {
   "cell_type": "code",
   "execution_count": 2,
   "id": "308ee714-d518-4407-a563-aad3cd419815",
   "metadata": {},
   "outputs": [],
   "source": [
    "arr = np.arange(1, 11)"
   ]
  },
  {
   "cell_type": "code",
   "execution_count": 3,
   "id": "d0257e76-dd41-4e29-9a6a-4e3feef25889",
   "metadata": {},
   "outputs": [],
   "source": [
    "reshaped_arr = arr.reshape(2, 5)"
   ]
  },
  {
   "cell_type": "code",
   "execution_count": 4,
   "id": "d7a027b7-97fe-4385-bda3-f058de2d9e55",
   "metadata": {},
   "outputs": [
    {
     "name": "stdout",
     "output_type": "stream",
     "text": [
      "[[ 1  2  3  4  5]\n",
      " [ 6  7  8  9 10]]\n"
     ]
    }
   ],
   "source": [
    "print(reshaped_arr)"
   ]
  },
  {
   "cell_type": "code",
   "execution_count": 5,
   "id": "c9f9ed72-ef35-4641-8c2d-6193976a918b",
   "metadata": {},
   "outputs": [],
   "source": [
    "import numpy as np"
   ]
  },
  {
   "cell_type": "code",
   "execution_count": 6,
   "id": "66420fcd-e339-4697-92df-dbf66d6adc19",
   "metadata": {},
   "outputs": [],
   "source": [
    "arr = np.arange(1, 21)"
   ]
  },
  {
   "cell_type": "code",
   "execution_count": 7,
   "id": "e997d518-ef95-481b-a1be-b775b411b4c3",
   "metadata": {},
   "outputs": [],
   "source": [
    "extracted = arr[5:15]"
   ]
  },
  {
   "cell_type": "code",
   "execution_count": 8,
   "id": "f5175fd2-118b-495e-9d36-0109a4013353",
   "metadata": {},
   "outputs": [
    {
     "name": "stdout",
     "output_type": "stream",
     "text": [
      "[ 6  7  8  9 10 11 12 13 14 15]\n"
     ]
    }
   ],
   "source": [
    "print(extracted)"
   ]
  },
  {
   "cell_type": "code",
   "execution_count": 9,
   "id": "764c69cb-bc45-49d4-90ef-2abfd0d7c047",
   "metadata": {},
   "outputs": [],
   "source": [
    "import pandas as pd"
   ]
  },
  {
   "cell_type": "code",
   "execution_count": 10,
   "id": "accde89f-bb22-4fc7-96c1-7186091a4534",
   "metadata": {},
   "outputs": [],
   "source": [
    "fruit_series = pd.Series({'apples': 3, 'bananas': 2, 'oranges': 1})"
   ]
  },
  {
   "cell_type": "code",
   "execution_count": 11,
   "id": "1fc4cb6e-2630-4d5b-9c17-9c9b75138b6f",
   "metadata": {},
   "outputs": [],
   "source": [
    "fruit_series['pears'] = 4"
   ]
  },
  {
   "cell_type": "code",
   "execution_count": 12,
   "id": "68872613-d492-4b37-8368-7c4f4c43c083",
   "metadata": {},
   "outputs": [
    {
     "name": "stdout",
     "output_type": "stream",
     "text": [
      "apples     3\n",
      "bananas    2\n",
      "oranges    1\n",
      "pears      4\n",
      "dtype: int64\n"
     ]
    }
   ],
   "source": [
    "print(fruit_series)"
   ]
  },
  {
   "cell_type": "code",
   "execution_count": 13,
   "id": "f59f0d3c-edcf-4f39-83f5-06cd3df12e80",
   "metadata": {},
   "outputs": [],
   "source": [
    "import pandas as pd"
   ]
  },
  {
   "cell_type": "code",
   "execution_count": 14,
   "id": "e9068fac-4952-41fb-9d40-1131547eaef6",
   "metadata": {},
   "outputs": [],
   "source": [
    "data = {\n",
    "    'name': ['Alice', 'Bob', 'Charlie', 'David', 'Eva', 'Frank', 'Grace', 'Hannah', 'Ian', 'Jane'],\n",
    "    'age': [25, 30, 35, 40, 22, 28, 33, 38, 27, 26],\n",
    "    'gender': ['F', 'M', 'M', 'M', 'F', 'M', 'F', 'F', 'M', 'F']\n",
    "}"
   ]
  },
  {
   "cell_type": "code",
   "execution_count": 15,
   "id": "8c29a887-6503-45a6-8443-c7192926f902",
   "metadata": {},
   "outputs": [],
   "source": [
    "df = pd.DataFrame(data)"
   ]
  },
  {
   "cell_type": "code",
   "execution_count": 16,
   "id": "f403267c-1f57-4501-acd7-1337710cc73c",
   "metadata": {},
   "outputs": [
    {
     "name": "stdout",
     "output_type": "stream",
     "text": [
      "      name  age gender\n",
      "0    Alice   25      F\n",
      "1      Bob   30      M\n",
      "2  Charlie   35      M\n",
      "3    David   40      M\n",
      "4      Eva   22      F\n",
      "5    Frank   28      M\n",
      "6    Grace   33      F\n",
      "7   Hannah   38      F\n",
      "8      Ian   27      M\n",
      "9     Jane   26      F\n"
     ]
    }
   ],
   "source": [
    "\n",
    "print(df)"
   ]
  },
  {
   "cell_type": "code",
   "execution_count": 17,
   "id": "5a65b32c-6354-4b34-8d4c-b787ceae1200",
   "metadata": {},
   "outputs": [],
   "source": [
    "import pandas as pd"
   ]
  },
  {
   "cell_type": "code",
   "execution_count": 18,
   "id": "6203a85e-27be-4791-8c9b-2215cf9c191a",
   "metadata": {},
   "outputs": [],
   "source": [
    "occupations = ['Programmer', 'Manager', 'Analyst']"
   ]
  },
  {
   "cell_type": "code",
   "execution_count": 19,
   "id": "875df0e2-f459-4eab-aba0-c63cecf2b7b1",
   "metadata": {},
   "outputs": [],
   "source": [
    "df['occupation'] = occupations * (len(df) // len(occupations)) + occupations[:len(df) % len(occupations)]"
   ]
  },
  {
   "cell_type": "code",
   "execution_count": 20,
   "id": "7f78fe47-78bc-4eae-8949-221d021a9beb",
   "metadata": {},
   "outputs": [
    {
     "name": "stdout",
     "output_type": "stream",
     "text": [
      "      name  age gender  occupation\n",
      "0    Alice   25      F  Programmer\n",
      "1      Bob   30      M     Manager\n",
      "2  Charlie   35      M     Analyst\n",
      "3    David   40      M  Programmer\n",
      "4      Eva   22      F     Manager\n",
      "5    Frank   28      M     Analyst\n",
      "6    Grace   33      F  Programmer\n",
      "7   Hannah   38      F     Manager\n",
      "8      Ian   27      M     Analyst\n",
      "9     Jane   26      F  Programmer\n"
     ]
    }
   ],
   "source": [
    "print(df)"
   ]
  },
  {
   "cell_type": "code",
   "execution_count": 21,
   "id": "7b273d85-9f98-42a4-a5d6-83bfdcfb58f1",
   "metadata": {},
   "outputs": [],
   "source": [
    "filtered_df = df[df['age'] >= 30]"
   ]
  },
  {
   "cell_type": "code",
   "execution_count": 22,
   "id": "68226db0-f00b-4e66-9e73-048d9d0acce6",
   "metadata": {},
   "outputs": [
    {
     "name": "stdout",
     "output_type": "stream",
     "text": [
      "      name  age gender  occupation\n",
      "1      Bob   30      M     Manager\n",
      "2  Charlie   35      M     Analyst\n",
      "3    David   40      M  Programmer\n",
      "6    Grace   33      F  Programmer\n",
      "7   Hannah   38      F     Manager\n"
     ]
    }
   ],
   "source": [
    "print(filtered_df)"
   ]
  },
  {
   "cell_type": "code",
   "execution_count": 23,
   "id": "a2b1ec2c-3bb0-41fe-8170-a16582a4b702",
   "metadata": {},
   "outputs": [],
   "source": [
    "df.to_csv('data.csv', index=False)"
   ]
  },
  {
   "cell_type": "code",
   "execution_count": 24,
   "id": "ce98eced-1bd2-42a8-a25b-b668d4093db6",
   "metadata": {},
   "outputs": [],
   "source": [
    "new_df = pd.read_csv('data.csv')"
   ]
  },
  {
   "cell_type": "code",
   "execution_count": 25,
   "id": "2353f13e-f812-472c-94b1-2aa4a4f9918e",
   "metadata": {},
   "outputs": [
    {
     "name": "stdout",
     "output_type": "stream",
     "text": [
      "      name  age gender  occupation\n",
      "0    Alice   25      F  Programmer\n",
      "1      Bob   30      M     Manager\n",
      "2  Charlie   35      M     Analyst\n",
      "3    David   40      M  Programmer\n",
      "4      Eva   22      F     Manager\n",
      "5    Frank   28      M     Analyst\n",
      "6    Grace   33      F  Programmer\n",
      "7   Hannah   38      F     Manager\n",
      "8      Ian   27      M     Analyst\n",
      "9     Jane   26      F  Programmer\n"
     ]
    }
   ],
   "source": [
    "print(new_df)"
   ]
  },
  {
   "cell_type": "code",
   "execution_count": null,
   "id": "e2483a1a-1f45-4af7-80fd-78074904ec43",
   "metadata": {},
   "outputs": [],
   "source": []
  }
 ],
 "metadata": {
  "kernelspec": {
   "display_name": "Python [conda env:base] *",
   "language": "python",
   "name": "conda-base-py"
  },
  "language_info": {
   "codemirror_mode": {
    "name": "ipython",
    "version": 3
   },
   "file_extension": ".py",
   "mimetype": "text/x-python",
   "name": "python",
   "nbconvert_exporter": "python",
   "pygments_lexer": "ipython3",
   "version": "3.12.7"
  }
 },
 "nbformat": 4,
 "nbformat_minor": 5
}
